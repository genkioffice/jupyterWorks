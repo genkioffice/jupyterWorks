{
 "cells": [
  {
   "cell_type": "code",
   "execution_count": 9,
   "metadata": {
    "collapsed": true
   },
   "outputs": [],
   "source": [
    "import random\n",
    "import time\n",
    "import os\n",
    "from gensim import corpora, matutils\n",
    "import MeCab\n",
    "import glob\n",
    "import numpy as np\n",
    "import pandas as pd\n",
    "from sklearn.model_selection import train_test_split\n",
    "from sklearn.metrics import roc_auc_score\n",
    "from sklearn.model_selection import cross_val_score\n",
    "from sklearn.linear_model import LogisticRegression\n",
    "from sklearn import naive_bayes\n",
    "from sklearn import metrics\n",
    "from sklearn.linear_model import SGDClassifier\n",
    "from matplotlib import pyplot as plt\n",
    "import sys\n",
    "import gc\n",
    "\n",
    "dictionary = corpora.Dictionary.load_from_text('combined_0.80以上の広告なし辞書.txtスコア0.8以上の広告あり辞書.txt.txt')\n",
    "mecab = MeCab.Tagger('-d  /Users/g_takahashi/genki_local/homebrew/lib/mecab/dic/mecab-ipadic-neologd')\n",
    "# def tokenize(text):\n",
    "#     node = mecab.parseToNode(text)\n",
    "#     while node:\n",
    "#         if node.feature.split(',')[0] in ['名詞', '形容詞']:\n",
    "#             yield node.surface.lower()\n",
    "#         node = node.next\n",
    "\n",
    "# def get_words(contents):\n",
    "#     ret = []\n",
    "#     for k,content in contents.items():\n",
    "#         ret.append(get_words_main(content))\n",
    "#     return ret\n",
    "    \n",
    "# def get_words_main(content):\n",
    "#     return [token for token in tokenize(content)]"
   ]
  },
  {
   "cell_type": "code",
   "execution_count": 10,
   "metadata": {
    "collapsed": true
   },
   "outputs": [],
   "source": [
    "# ベイジアンネットワークを比較\n",
    "# 多項分布と仮定した場合.\n",
    "NB_multinominal = naive_bayes.MultinomialNB(alpha=1.0)\n",
    "# ベルヌーイ分布\n",
    "NB_bernoulli = naive_bayes.BernoulliNB(alpha=1.0)"
   ]
  },
  {
   "cell_type": "code",
   "execution_count": 11,
   "metadata": {
    "collapsed": true
   },
   "outputs": [],
   "source": [
    "def cross_val(model):\n",
    "    start = time.time()\n",
    "    scores = cross_val_score(model, X_train, y_train.values.ravel(), cv=5)\n",
    "    elapsed_time = time.time() - start\n",
    "    print(\"{0} has mean:{1} and std:{2}\".format(model,scores.mean(),scores.std()))\n",
    "    print(\"elapsed_time: {0}\".format(elapsed_time))"
   ]
  },
  {
   "cell_type": "code",
   "execution_count": 12,
   "metadata": {
    "collapsed": true
   },
   "outputs": [],
   "source": [
    "# aucをモデルごとに比較する.\n",
    "def check_auc(model):\n",
    "    start = time.time()\n",
    "    model.fit(X_train,y_train.values.ravel())\n",
    "    # predicted_y = model.predict_proba(X_test)\n",
    "    predicted_y = model.predict(X_test)\n",
    "    # auc = roc_auc_score(y_test, predicted_y[:,1]) #二列目を取得する.\n",
    "    auc = roc_auc_score(y_test, predicted_y)\n",
    "    elapsed_time = time.time() - start\n",
    "    print(\"{0} has {1} auc.\".format(model, auc))\n",
    "    print(\"elapsed_time: {0}\".format(elapsed_time))\n",
    "# for model in [LR_by_SGD_with_L1, LR_by_SGD_with_L2]:\n",
    "#     check_auc(model)"
   ]
  },
  {
   "cell_type": "code",
   "execution_count": 4,
   "metadata": {
    "collapsed": true
   },
   "outputs": [],
   "source": [
    "# データを読み込む\n",
    "X_train = pd.DataFrame.from_csv('advertisement_X_train.csv', sep=',')\n",
    "y_train = pd.DataFrame.from_csv('advertisement_y_train.csv', sep=',')\n",
    "X_test = pd.DataFrame.from_csv('advertisement_X_test.csv', sep=',')\n",
    "y_test = pd.DataFrame.from_csv('advertisement_y_test.csv', sep=',')\n",
    "# X, y が必要な場合\n",
    "X = pd.concat([X_train,X_test],ignore_index=True)\n",
    "y = pd.concat([y_train,y_test],ignore_index=True)"
   ]
  },
  {
   "cell_type": "code",
   "execution_count": 13,
   "metadata": {},
   "outputs": [
    {
     "name": "stdout",
     "output_type": "stream",
     "text": [
      "MultinomialNB(alpha=1.0, class_prior=None, fit_prior=True) has mean:0.7009795515343664 and std:0.0014056100383838565\n",
      "elapsed_time: 47.73579812049866\n",
      "MultinomialNB(alpha=1.0, class_prior=None, fit_prior=True) has 0.6513775052055607 auc.\n",
      "elapsed_time: 3.454374074935913\n",
      "BernoulliNB(alpha=1.0, binarize=0.0, class_prior=None, fit_prior=True) has mean:0.6830552210407169 and std:0.0020191725712762868\n",
      "elapsed_time: 396.71151518821716\n",
      "BernoulliNB(alpha=1.0, binarize=0.0, class_prior=None, fit_prior=True) has 0.6322155812706496 auc.\n",
      "elapsed_time: 85.65788078308105\n"
     ]
    }
   ],
   "source": [
    "for model in [NB_multinominal, NB_bernoulli]:\n",
    "    cross_val(model)\n",
    "    check_auc(model)"
   ]
  },
  {
   "cell_type": "code",
   "execution_count": null,
   "metadata": {
    "collapsed": true
   },
   "outputs": [],
   "source": []
  }
 ],
 "metadata": {
  "kernelspec": {
   "display_name": "Python 3",
   "language": "python",
   "name": "python3"
  },
  "language_info": {
   "codemirror_mode": {
    "name": "ipython",
    "version": 3
   },
   "file_extension": ".py",
   "mimetype": "text/x-python",
   "name": "python",
   "nbconvert_exporter": "python",
   "pygments_lexer": "ipython3",
   "version": "3.5.4"
  }
 },
 "nbformat": 4,
 "nbformat_minor": 2
}
